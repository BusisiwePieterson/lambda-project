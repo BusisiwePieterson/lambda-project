{
 "cells": [
  {
   "cell_type": "code",
   "execution_count": 146,
   "metadata": {},
   "outputs": [],
   "source": [
    "import boto3\n",
    "from datetime import datetime"
   ]
  },
  {
   "cell_type": "code",
   "execution_count": 147,
   "metadata": {},
   "outputs": [],
   "source": [
    "today = datetime.today()\n"
   ]
  },
  {
   "cell_type": "code",
   "execution_count": 148,
   "metadata": {},
   "outputs": [],
   "source": [
    "todays_date = today.strftime(\"%Y%m%d\")\n"
   ]
  },
  {
   "cell_type": "code",
   "execution_count": 149,
   "metadata": {},
   "outputs": [],
   "source": [
    "s3client = boto3.client('s3')"
   ]
  },
  {
   "cell_type": "code",
   "execution_count": 150,
   "metadata": {},
   "outputs": [],
   "source": [
    "bucket_name = \"busi-organise-s3-object\""
   ]
  },
  {
   "cell_type": "code",
   "execution_count": 151,
   "metadata": {},
   "outputs": [],
   "source": [
    "list_objects_response = s3client.list_objects_v2(Bucket=bucket_name)"
   ]
  },
  {
   "cell_type": "code",
   "execution_count": 152,
   "metadata": {},
   "outputs": [],
   "source": [
    "get_contents = list_objects_response.get(\"Contents\")\n"
   ]
  },
  {
   "cell_type": "code",
   "execution_count": 153,
   "metadata": {},
   "outputs": [
    {
     "data": {
      "text/plain": [
       "['20230130/',\n",
       " '20230131/',\n",
       " '20230131/Battah, Nemat_Appointment Confirmation NEW.pdf',\n",
       " '20230131/Beige_Minimalist_Simple_Initial_Logo-removebg-preview.png',\n",
       " '20230131/BusisiwePieterson_Resume (2).pdf',\n",
       " '20230131/CamScanner 11-21-2022 15.34 (1).pdf',\n",
       " '20230131/EASY_ACCOUNT_51 (1).pdf',\n",
       " '20230131/EASY_ACCOUNT_52.pdf',\n",
       " '20230131/IMG-20220322-WA0026.jpg',\n",
       " '20230131/NPHSC.pdf',\n",
       " '20230131/Non-immigrant VISA Application Confirmation - Menegat, Debora Regina AA00BDDM4R.pdf',\n",
       " '20230131/Zizhuo Wang_Payment Receipt.pdf',\n",
       " '20230131/_pmqh7g3th.pdf',\n",
       " '20230131/glc-coupe-july-new.pdf',\n",
       " '20230131/umgidi.pdf',\n",
       " 'CloudResume/index.html',\n",
       " 'DS160 FORM - KRUGER, GEORGINA FREDERIKA AA00AU0GEH (1).pdf',\n",
       " 'IMG-20220907-WA0002 (1).jpg',\n",
       " 'Julia Monteiro Da Costa_Payment Receipt.pdf']"
      ]
     },
     "execution_count": 153,
     "metadata": {},
     "output_type": "execute_result"
    }
   ],
   "source": [
    "get_all_s3_objects_and_folder_names = []\n",
    "\n",
    "for item in get_contents:\n",
    "    s3_object_name = item.get(\"Key\")\n",
    "    get_all_s3_objects_and_folder_names.append(s3_object_name)\n",
    "get_all_s3_objects_and_folder_names\n"
   ]
  },
  {
   "cell_type": "code",
   "execution_count": 154,
   "metadata": {},
   "outputs": [],
   "source": [
    "directory_name = todays_date + \"/\"\n"
   ]
  },
  {
   "cell_type": "code",
   "execution_count": 155,
   "metadata": {},
   "outputs": [],
   "source": [
    "if directory_name not in get_all_s3_objects_and_folder_names:\n",
    "    s3client.put_object(Bucket=bucket_name, Key=(directory_name))"
   ]
  },
  {
   "cell_type": "code",
   "execution_count": 156,
   "metadata": {},
   "outputs": [],
   "source": [
    "for item in get_contents:\n",
    "    object_creation_date = item.get(\"LastModified\").strftime(\"%Y%m%d\") + \"/\"\n",
    "    object_name = item.get(\"Key\")\n",
    "\n",
    "    if object_creation_date == directory_name and \"/\" not in object_name:\n",
    "        s3client.copy_object(Bucket=bucket_name, CopySource=bucket_name+\"/\"+object_name, Key=directory_name+object_name)\n",
    "        s3client.delete_object(Bucket=bucket_name, Key=object_name)\n"
   ]
  },
  {
   "cell_type": "code",
   "execution_count": null,
   "metadata": {},
   "outputs": [],
   "source": []
  }
 ],
 "metadata": {
  "kernelspec": {
   "display_name": "Python 3",
   "language": "python",
   "name": "python3"
  },
  "language_info": {
   "codemirror_mode": {
    "name": "ipython",
    "version": 3
   },
   "file_extension": ".py",
   "mimetype": "text/x-python",
   "name": "python",
   "nbconvert_exporter": "python",
   "pygments_lexer": "ipython3",
   "version": "3.10.4"
  },
  "orig_nbformat": 4,
  "vscode": {
   "interpreter": {
    "hash": "369f2c481f4da34e4445cda3fffd2e751bd1c4d706f27375911949ba6bb62e1c"
   }
  }
 },
 "nbformat": 4,
 "nbformat_minor": 2
}
